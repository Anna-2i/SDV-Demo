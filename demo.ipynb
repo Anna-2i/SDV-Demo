{
 "cells": [
  {
   "cell_type": "code",
   "execution_count": null,
   "metadata": {},
   "outputs": [],
   "source": [
    "!pip3 install sdv --user"
   ]
  },
  {
   "cell_type": "markdown",
   "metadata": {},
   "source": [
    "LOADING DATA"
   ]
  },
  {
   "cell_type": "code",
   "execution_count": null,
   "metadata": {},
   "outputs": [],
   "source": [
    "from sdv.datasets.local import load_csvs\n",
    "\n",
    "datasets = load_csvs(\"data/\")\n",
    "pokemon_types = datasets[\"pokemon_types\"]\n",
    "pokemon = datasets[\"pokemon\"]\n",
    "types = datasets[\"types\"]\n",
    "\n",
    "pokemon_types['composite_key'] = pokemon_types['pokemon_id'].astype(str) + '-' + pokemon_types['type_id'].astype(str)"
   ]
  },
  {
   "cell_type": "code",
   "execution_count": null,
   "metadata": {},
   "outputs": [],
   "source": [
    "datasets.keys()"
   ]
  },
  {
   "cell_type": "markdown",
   "metadata": {},
   "source": [
    "CREATING METADATA"
   ]
  },
  {
   "cell_type": "code",
   "execution_count": null,
   "metadata": {},
   "outputs": [],
   "source": [
    "from sdv.metadata import MultiTableMetadata\n",
    "\n",
    "#metadata is loaded and detected\n",
    "metadata = MultiTableMetadata()\n",
    "\n",
    "metadata.detect_from_dataframes(\n",
    "    datasets\n",
    ")\n",
    "\n",
    "#print(metadata)"
   ]
  },
  {
   "cell_type": "markdown",
   "metadata": {},
   "source": [
    "MODIFY METADATA"
   ]
  },
  {
   "cell_type": "code",
   "execution_count": null,
   "metadata": {},
   "outputs": [],
   "source": [
    "#Access metadata dictionary (metadata is represented as a dict or SDV object, here we do dict)\n",
    "metadata_dict = metadata.to_dict()\n",
    "\n",
    "# we need to make sure keys that are related as primary-foreign are the same data type in order to establish the relationship\n",
    "# Modify the data type of 'id' in the 'pokemon' table to 'id'\n",
    "\n",
    "metadata.update_column(\n",
    "    table_name='pokemon_types',\n",
    "    column_name='type_id',\n",
    "    sdtype='id')\n",
    "\n",
    "metadata.update_column(\n",
    "    table_name='pokemon_types',\n",
    "    column_name='pokemon_id',\n",
    "    sdtype='id')\n",
    "\n",
    "#set primary key in pokemon_types table\n",
    "metadata.set_primary_key(\n",
    "    table_name='pokemon_types',\n",
    "    column_name='composite_key'\n",
    ")\n",
    "\n",
    "#  Update columns with Unknown types\n",
    "metadata.update_column(table_name=\"pokemon\", column_name=\"pokemon\", sdtype=\"categorical\")\n",
    "metadata.update_column(table_name=\"pokemon\", column_name=\"pokemon_order\", sdtype=\"id\")\n",
    "metadata.update_column(table_name=\"types\", column_name=\"type_name\", sdtype=\"categorical\")\n",
    "\n",
    "#print(metadata_dict.get('type_id'))"
   ]
  },
  {
   "cell_type": "markdown",
   "metadata": {},
   "source": [
    "EDIT RELATIONSHIPS"
   ]
  },
  {
   "cell_type": "code",
   "execution_count": null,
   "metadata": {},
   "outputs": [],
   "source": [
    "metadata.add_relationship(\n",
    "    parent_table_name='pokemon',\n",
    "    child_table_name='pokemon_types',\n",
    "    parent_primary_key='id',\n",
    "    child_foreign_key='pokemon_id'\n",
    ")\n",
    "\n",
    "metadata.add_relationship(\n",
    "    parent_table_name='types',\n",
    "    child_table_name='pokemon_types',\n",
    "    parent_primary_key='id',\n",
    "    child_foreign_key='type_id'\n",
    ")"
   ]
  },
  {
   "cell_type": "markdown",
   "metadata": {},
   "source": [
    "VISUALISE METADATA"
   ]
  },
  {
   "cell_type": "code",
   "execution_count": null,
   "metadata": {},
   "outputs": [],
   "source": [
    "metadata.visualize()"
   ]
  },
  {
   "cell_type": "code",
   "execution_count": null,
   "metadata": {},
   "outputs": [],
   "source": [
    "metadata.save_to_json(filepath='metadata4.json')\n",
    "\n",
    "# # in the future, you can reload the metadata object from the file\n",
    "# metadata = SingleTableMetadata.load_from_json(f'{FOLDER_NAME}Financial_metadata.json')"
   ]
  },
  {
   "cell_type": "code",
   "execution_count": null,
   "metadata": {},
   "outputs": [],
   "source": [
    "#load your saved metadata json file\n",
    "\n",
    "from sdv.metadata import MultiTableMetadata\n",
    "\n",
    "metadata = MultiTableMetadata.load_from_json(\n",
    "    filepath='metadata2.json')\n"
   ]
  },
  {
   "cell_type": "code",
   "execution_count": null,
   "metadata": {},
   "outputs": [],
   "source": [
    "from sdv.multi_table import HMASynthesizer\n",
    "\n",
    "# Step 1: Create the synthesizer\n",
    "synthesizer = HMASynthesizer(\n",
    "    metadata,\n",
    "    verbose=True)\n",
    "\n",
    "# Step 2: Train the synthesizer\n",
    "synthesizer.fit(datasets)\n",
    "\n",
    "# Step 3: Generate synthetic data\n",
    "synthetic_data = synthesizer.sample(1)"
   ]
  },
  {
   "cell_type": "code",
   "execution_count": null,
   "metadata": {},
   "outputs": [],
   "source": [
    "# Save a model\n",
    "synthesizer.save('synthesizer.pkl')\n",
    "\n",
    "# Save synthetic dataset\n",
    "synthetic_data['pokemon'].to_csv('synth/pokemon.csv', index=False)\n",
    "synthetic_data['pokemon_types'].to_csv('synth/pokemon_types.csv', index=False)\n",
    "synthetic_data['types'].to_csv('synth/types.csv', index=False)"
   ]
  }
 ],
 "metadata": {
  "kernelspec": {
   "display_name": "Python 3",
   "language": "python",
   "name": "python3"
  },
  "language_info": {
   "codemirror_mode": {
    "name": "ipython",
    "version": 3
   },
   "file_extension": ".py",
   "mimetype": "text/x-python",
   "name": "python",
   "nbconvert_exporter": "python",
   "pygments_lexer": "ipython3",
   "version": "3.11.0"
  }
 },
 "nbformat": 4,
 "nbformat_minor": 2
}
